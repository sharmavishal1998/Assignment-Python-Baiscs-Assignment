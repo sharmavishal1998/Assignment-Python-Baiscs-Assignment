{
  "nbformat": 4,
  "nbformat_minor": 0,
  "metadata": {
    "colab": {
      "provenance": []
    },
    "kernelspec": {
      "name": "python3",
      "display_name": "Python 3"
    },
    "language_info": {
      "name": "python"
    }
  },
  "cells": [
    {
      "cell_type": "code",
      "execution_count": null,
      "metadata": {
        "id": "SprOeuXgPd7i"
      },
      "outputs": [],
      "source": [
        "#Question1- Explain the key features of python that make it a popular choice for programming?\n",
        "#Answer-There are multiple languages available for programming but following are the features of python that makes it popular choice for programming.\n",
        "#1-It is an easy to write and easy to understand language.\n",
        "#2-It is an old language which make it more reliable and has 137000 libraries which make it more varsatile.\n",
        "#3- It has clean syntax which makes it easy to understand.\n",
        "#4- It has a due to which it can by itself identify type of date such as string or list or float.\n",
        "# these features make python popular choise for programming."
      ]
    },
    {
      "cell_type": "code",
      "source": [
        "#Question2- Describe the role of predefined keywords in Python and provide examples of how they are used in a program?\n",
        "#Answer- Predefined keywords in python are special words and characters that all have different meaning and function assigned and they cannot be used as a normal word or variable. They make writing structre and logic of code easy and clean.\n",
        "#some of the predefined keywords in python are:- and,is,while,false,true,elif,else,if,in,is,not,for.\n",
        "#program using few kewords in python.\n",
        "#Write a Python program to check if a number is positive, negative, or zero.\n",
        "number=int(input(\"Enter a number:\"))\n",
        "if number>0:    #here_if_keyword_is_used\n",
        "    print(\"The number is positive\")\n",
        "elif number<0:  #here_elif_keyword_is_used\n",
        "    print(\"The number is negative\")\n",
        "else:            #here_else_keyword_is_used\n",
        "    print(\"The number is zero\")"
      ],
      "metadata": {
        "colab": {
          "base_uri": "https://localhost:8080/"
        },
        "id": "qg-9JRnNPfVX",
        "outputId": "e3ea4c96-c808-411b-e038-62040578bafc"
      },
      "execution_count": null,
      "outputs": [
        {
          "output_type": "stream",
          "name": "stdout",
          "text": [
            "Enter a number:5\n",
            "The number is positive\n"
          ]
        }
      ]
    },
    {
      "cell_type": "markdown",
      "source": [],
      "metadata": {
        "id": "r3eKZtpsSCJG"
      }
    },
    {
      "cell_type": "code",
      "source": [
        "#print pattern using while function.\n",
        "i=1\n",
        "while i<=5:     #here_while_function_is_used\n",
        "    j=1\n",
        "    while j<=i:\n",
        "        print(\"*\",end=\"\")\n",
        "        j=j+1\n",
        "    print()\n",
        "    i=i+1"
      ],
      "metadata": {
        "colab": {
          "base_uri": "https://localhost:8080/"
        },
        "id": "G0pkcdeFVqYZ",
        "outputId": "e4df619b-f7a4-491f-88ee-afb00e51a3f3"
      },
      "execution_count": null,
      "outputs": [
        {
          "output_type": "stream",
          "name": "stdout",
          "text": [
            "*\n",
            "**\n",
            "***\n",
            "****\n",
            "*****\n"
          ]
        }
      ]
    },
    {
      "cell_type": "code",
      "source": [
        "#use of for and break function.\n",
        "for i in range(4):  #here_for_function_is_used\n",
        "    if i == 2:\n",
        "        break   #here_break_function_is_used\n",
        "    print(i)"
      ],
      "metadata": {
        "colab": {
          "base_uri": "https://localhost:8080/"
        },
        "id": "d9tbXlr2XPqI",
        "outputId": "43fd43c4-a2bd-4c9b-e640-5c82076ba15c"
      },
      "execution_count": null,
      "outputs": [
        {
          "output_type": "stream",
          "name": "stdout",
          "text": [
            "0\n",
            "1\n"
          ]
        }
      ]
    },
    {
      "cell_type": "code",
      "source": [
        "#Question3- Compare and contrast mutable and immutable objects in python with examples?\n",
        "#Answer-Mutable objects- Mutable objects are those that can be changed or modified.In these objects its contents can be changed without creating an new object.\n",
        "#Some of mutalbe objects are= List[],Dictionaries,sets{}\n",
        "#Immutable objects= Immutable objects are those which can not be changed or modified after creation. and the contents in them can not be replaced.\n",
        "#Some of immutable objects are= string(\"\"),tuples(),integers,floats.\n",
        "#some examples of mutability of list.\n",
        "listA= [2,5,6,7]\n",
        "listA.append(10)\n",
        "print(listA)\n"
      ],
      "metadata": {
        "colab": {
          "base_uri": "https://localhost:8080/"
        },
        "id": "xLTJKdcGYjhG",
        "outputId": "765b1b2c-06bb-4d3f-86fa-7388119c2650"
      },
      "execution_count": null,
      "outputs": [
        {
          "output_type": "stream",
          "name": "stdout",
          "text": [
            "[2, 5, 6, 7, 10]\n"
          ]
        }
      ]
    },
    {
      "cell_type": "code",
      "source": [
        "listB=[3,4,5,6]\n",
        "listB.remove(3)\n",
        "print(listB)"
      ],
      "metadata": {
        "colab": {
          "base_uri": "https://localhost:8080/"
        },
        "id": "fW6aH-u9cYUS",
        "outputId": "b0317b63-68d8-4354-c5d8-47c09442a5c9"
      },
      "execution_count": null,
      "outputs": [
        {
          "output_type": "stream",
          "name": "stdout",
          "text": [
            "[4, 5, 6]\n"
          ]
        }
      ]
    },
    {
      "cell_type": "code",
      "source": [
        "#example of immutability of string\n",
        "string= (\"hello world\")\n",
        "string[3]=\"h\"\n",
        "print(string)"
      ],
      "metadata": {
        "colab": {
          "base_uri": "https://localhost:8080/",
          "height": 193
        },
        "id": "y_qM29gXclow",
        "outputId": "580afd64-01c6-4b7e-ebfc-1c2ac005c4d3"
      },
      "execution_count": null,
      "outputs": [
        {
          "output_type": "error",
          "ename": "TypeError",
          "evalue": "'str' object does not support item assignment",
          "traceback": [
            "\u001b[0;31m---------------------------------------------------------------------------\u001b[0m",
            "\u001b[0;31mTypeError\u001b[0m                                 Traceback (most recent call last)",
            "\u001b[0;32m<ipython-input-11-1eca5252033e>\u001b[0m in \u001b[0;36m<cell line: 3>\u001b[0;34m()\u001b[0m\n\u001b[1;32m      1\u001b[0m \u001b[0;31m#example of immutability of string\u001b[0m\u001b[0;34m\u001b[0m\u001b[0;34m\u001b[0m\u001b[0m\n\u001b[1;32m      2\u001b[0m \u001b[0mstring\u001b[0m\u001b[0;34m=\u001b[0m \u001b[0;34m(\u001b[0m\u001b[0;34m\"hello world\"\u001b[0m\u001b[0;34m)\u001b[0m\u001b[0;34m\u001b[0m\u001b[0;34m\u001b[0m\u001b[0m\n\u001b[0;32m----> 3\u001b[0;31m \u001b[0mstring\u001b[0m\u001b[0;34m[\u001b[0m\u001b[0;36m3\u001b[0m\u001b[0;34m]\u001b[0m\u001b[0;34m=\u001b[0m\u001b[0;34m\"h\"\u001b[0m\u001b[0;34m\u001b[0m\u001b[0;34m\u001b[0m\u001b[0m\n\u001b[0m\u001b[1;32m      4\u001b[0m \u001b[0mprint\u001b[0m\u001b[0;34m(\u001b[0m\u001b[0mstring\u001b[0m\u001b[0;34m)\u001b[0m\u001b[0;34m\u001b[0m\u001b[0;34m\u001b[0m\u001b[0m\n",
            "\u001b[0;31mTypeError\u001b[0m: 'str' object does not support item assignment"
          ]
        }
      ]
    },
    {
      "cell_type": "code",
      "source": [
        "#Question4- Discuss the different type of operators in python and provide examples of how they are used?\n",
        "#Answer- There are mainly seven type of operators in python.All of those types are described as:\n",
        "#1-Arithmetic operators-- additiona('+'),subtraction(-),multiplication(*),divison(/),floor divison(//),modulous(%),exponentiation(**)\n",
        "#2-Assignment operators-- Assignment(=),Addition assignment(+=),Subtraction assignment(-=),Multiplication assignment(*=),Divison assignment(/=)\n",
        "#3-Comparison operators-- Equals t0(==),Not equalsto (!=),greater than(>),greater than equals to(>=),less than(<),less than equals to(<=),\n",
        "#4-Logical operators-- Logical AND,Logical OR,logical not\n",
        "#5-Identity operators-- is,is not\n",
        "#6-Membership operators-- in ,not in\n",
        "#7-Bitwise operators-- &,OR,XOR,<<(left shift),>>(right shift)\n",
        "\n",
        "#some examples of uses of operators\n",
        "a=5+6\n",
        "#addition                 #here addition is used\n",
        "print(a)\n",
        "b=8-4\n",
        "#subtraction              #here subtraction is used\n",
        "print(b)\n",
        "c=5*6\n",
        "#multiplication           #here multiplication is used\n",
        "print(c)\n",
        "d=10/2\n",
        "#divison                   #here division is used\n",
        "print(d)\n",
        "e=10//2\n",
        "#floor divison             #here floor division is used\n",
        "print(e)\n",
        "f=10%2\n",
        "#modulous                  #here modulous operator is used\n",
        "print(f)\n",
        "g=2**3\n",
        "#exponentiation            #here exponentiation operator is used\n",
        "print(g)"
      ],
      "metadata": {
        "colab": {
          "base_uri": "https://localhost:8080/"
        },
        "id": "_iAG4aqTdx8-",
        "outputId": "d19b85a6-528c-4bfe-d9cf-adf6c35e1982"
      },
      "execution_count": null,
      "outputs": [
        {
          "output_type": "stream",
          "name": "stdout",
          "text": [
            "11\n",
            "4\n",
            "30\n",
            "5.0\n",
            "5\n",
            "0\n",
            "8\n"
          ]
        }
      ]
    },
    {
      "cell_type": "code",
      "source": [
        "#some use of comparison operators;\n",
        "marks=int(input(\"enter you marks here:\"))\n",
        "if marks >=90:                                   #here >= comparison operator is used\n",
        "    print(\"good marks\")\n",
        "elif marks<60:                                   #here < comparsion operator is used\n",
        "    print(\"average marks\")\n",
        "elif marks== 40:\n",
        "  print(\"passing marks\")                          #here == comparison operator is used\n",
        "else:\n",
        "  print(\"you fail\")"
      ],
      "metadata": {
        "colab": {
          "base_uri": "https://localhost:8080/"
        },
        "id": "xbkYQmEah52n",
        "outputId": "de13fb64-0d5d-402d-ec99-aaf166f70b4c"
      },
      "execution_count": null,
      "outputs": [
        {
          "output_type": "stream",
          "name": "stdout",
          "text": [
            "enter you marks here:40\n",
            "average marks\n"
          ]
        }
      ]
    },
    {
      "cell_type": "code",
      "source": [
        "#example use of in and not in operators\n",
        "email= input(\"enter your email here\")\n",
        "if \"@\" in email:\n",
        "    print(\"valid email\")\n",
        "else:\n",
        "    print(\"invalid email\")"
      ],
      "metadata": {
        "id": "Z0DXzs0yjPL-"
      },
      "execution_count": null,
      "outputs": []
    },
    {
      "cell_type": "code",
      "source": [
        "listA=[2,3,4,5,6,7]\n",
        "\"2\" not in listA"
      ],
      "metadata": {
        "colab": {
          "base_uri": "https://localhost:8080/"
        },
        "id": "itl59ZqVk1ox",
        "outputId": "bd58d3fa-8290-4689-cf83-03c93064ed66"
      },
      "execution_count": null,
      "outputs": [
        {
          "output_type": "execute_result",
          "data": {
            "text/plain": [
              "True"
            ]
          },
          "metadata": {},
          "execution_count": 18
        }
      ]
    },
    {
      "cell_type": "code",
      "source": [
        "#example of AND OR logical operators.\n",
        "number=int(input(\"enter a number:\"))\n",
        "if number>5 and number<10:                                 #here and operator is used to varify two conditions\n",
        "    print(\"the number is between 5 and 10\")\n",
        "    if number==7 or number==8:                             #here or operator is used to varify two conditions\n",
        "        print(\"the number is either 7 or 8\")\n",
        "else:\n",
        "  print(\"please enter a valid number\")"
      ],
      "metadata": {
        "colab": {
          "base_uri": "https://localhost:8080/"
        },
        "id": "Y_GgugK8l2ri",
        "outputId": "4648a4c3-6793-4f50-ad96-271899e2dcc3"
      },
      "execution_count": null,
      "outputs": [
        {
          "output_type": "stream",
          "name": "stdout",
          "text": [
            "enter a number:7\n",
            "the number is between 5 and 10\n",
            "the number is either 7 or 8\n"
          ]
        }
      ]
    },
    {
      "cell_type": "code",
      "source": [
        "#Question5- Expalin the concept of typecasting in python with example?\n",
        "#Answer- Type casting is a process of converting one data type to another.basically it is a process of converting a variable from one datatype into another.\n",
        "#Typecasting funtions are-\n",
        "#Strint\n",
        "#Float\n",
        "#Integer\n",
        "#List\n",
        "#Tupple\n",
        "#Set\n",
        "#Dictionary\n",
        "#Boolean\n",
        "#complex\n",
        "A= (\"2\")\n",
        "print(type(A))\n"
      ],
      "metadata": {
        "colab": {
          "base_uri": "https://localhost:8080/"
        },
        "id": "slNu24zUmYB4",
        "outputId": "91a2e146-3c63-4c5d-b69f-ca53752d2e3d"
      },
      "execution_count": null,
      "outputs": [
        {
          "output_type": "stream",
          "name": "stdout",
          "text": [
            "<class 'str'>\n",
            "<class 'int'>\n"
          ]
        }
      ]
    },
    {
      "cell_type": "code",
      "source": [
        "B= int(A)\n",
        "print(type(B))     #here string is converted into integer using typecasting"
      ],
      "metadata": {
        "colab": {
          "base_uri": "https://localhost:8080/"
        },
        "id": "w9TjDXVno7TW",
        "outputId": "37679d03-ec73-417f-d37c-5b29b332deb9"
      },
      "execution_count": null,
      "outputs": [
        {
          "output_type": "stream",
          "name": "stdout",
          "text": [
            "<class 'int'>\n"
          ]
        }
      ]
    },
    {
      "cell_type": "code",
      "source": [
        "D=5\n",
        "C= float(D)        # here integer is converted in to float using typecasting\n",
        "print(type(C))"
      ],
      "metadata": {
        "colab": {
          "base_uri": "https://localhost:8080/"
        },
        "id": "iTWo3SJCpaqW",
        "outputId": "eae3c4e1-e80c-4f59-961e-2e1a0010b36e"
      },
      "execution_count": null,
      "outputs": [
        {
          "output_type": "stream",
          "name": "stdout",
          "text": [
            "<class 'float'>\n"
          ]
        }
      ]
    },
    {
      "cell_type": "code",
      "source": [
        "B= complex(A)\n",
        "print(type(B))     # here string is converted into complex number using typecasting"
      ],
      "metadata": {
        "colab": {
          "base_uri": "https://localhost:8080/"
        },
        "id": "wbUwzzqMpd2e",
        "outputId": "81e6ead5-94f3-4221-e666-a85230cb08fb"
      },
      "execution_count": null,
      "outputs": [
        {
          "output_type": "stream",
          "name": "stdout",
          "text": [
            "<class 'complex'>\n"
          ]
        }
      ]
    },
    {
      "cell_type": "code",
      "source": [
        "B= bool(A)         # here string is converted int booling using typecasting\n",
        "print(type(B))"
      ],
      "metadata": {
        "id": "rki8jWFapghh"
      },
      "execution_count": null,
      "outputs": []
    },
    {
      "cell_type": "code",
      "source": [
        "B= list(A)\n",
        "print(type(B))     # here string is converted into list using typecasting"
      ],
      "metadata": {
        "id": "5oivoUgspjGK"
      },
      "execution_count": null,
      "outputs": []
    },
    {
      "cell_type": "code",
      "source": [
        "#Question6- How do conditional statements work in python illustrate with examples.\n",
        "#Answer-Conditional statemetns are basically functions of python that illustrate how and in which direction the code will be executed in short these are a set of conditions which if satisfied then code will give desired result otherwise not.\n",
        "#there are basically four type of conditional statements.\n",
        "#1-if statement --          This statement varifies the given condition if given codition satisfies then that block of code will be executed\n",
        "#2-if else statement---     This condition allows you to give multiple codition and if any of them is true then code will be executed.\n",
        "#3-if elif else statement-- This codition works when non of the if and elif condition is satisfied then this block of code will be executed.\n",
        "#4-nested if statement--    This condition allows you to check if condition inside an if codition when the previous one is satisfied."
      ],
      "metadata": {
        "id": "sOLyAiOarCSM"
      },
      "execution_count": null,
      "outputs": []
    },
    {
      "cell_type": "code",
      "source": [
        "Score=int(input(\"enter your score here:\"))\n",
        "if Score>=500:\n",
        "    print(\"you achieved a good score\")   #here if the condition satisfies then it will print good score if not then it will look into another given condition.\n",
        "elif Score>=400:\n",
        "    print(\"you achieved a average score\")\n",
        "elif Score>=300:\n",
        "    print(\"you achieved a poor score\")\n",
        "else:                                    #here if none of above conditions satisfies it will execute this last block of code.\n",
        "    print(\"you achieved a very poor score\")\n"
      ],
      "metadata": {
        "id": "L9ceTf43uoBi"
      },
      "execution_count": null,
      "outputs": []
    },
    {
      "cell_type": "code",
      "source": [
        "#another example of using if elif else statemnt.\n",
        "weather= input(\"enter the weather condition:\")\n",
        "if weather == \"rainy\":                                          #here if the condition under this block is satisfied then it will print take an umbrella\n",
        "    print(\"Take an umbrella.\")\n",
        "elif weather == \"sunny\":                                        #here if the condition under this block is satisfied then it will print wear sunglasses\n",
        "    print(\"Wear sunglasses.\")\n",
        "elif weather == \"cloudy\":\n",
        "    print(\"A light jacket might be needed.\")                    #here if the condition under this block is satisfied then it will print wear light jacket\n",
        "else:                                                           #here if none of above conditions satisfies it will execute this last block of code.\n",
        "    print(\"Weather condition unknown.\")"
      ],
      "metadata": {
        "id": "NCLcp1i-w4t_"
      },
      "execution_count": null,
      "outputs": []
    },
    {
      "cell_type": "markdown",
      "source": [],
      "metadata": {
        "id": "ygSbZTZRw4bu"
      }
    },
    {
      "cell_type": "code",
      "source": [
        "#Question7-Describe the different types of loops in python and their use cases with example?\n",
        "#Answer-Loops- The process of repeating an action multiple times till the given condition is satisfied is called loops.\n",
        "#loops are mainly of two types-\n",
        "#1- While loop, 2#- for loop\n",
        "#While loop--\n",
        "#when a process is repated until the specified condition is true is called while loop.\n",
        "#example--\n",
        "number=int(input(\"enter a number:\"))\n",
        "while number>=50:\n",
        "  print(\"number is greater than or equal to 50\")\n",
        "else:\n",
        "  print(\"number is less than 50\")"
      ],
      "metadata": {
        "colab": {
          "base_uri": "https://localhost:8080/"
        },
        "id": "hnRrxYmE_Zcy",
        "outputId": "1e99d672-90b8-4a67-b0c2-45411dcd78f9"
      },
      "execution_count": 4,
      "outputs": [
        {
          "output_type": "stream",
          "name": "stdout",
          "text": [
            "enter a number:45\n",
            "number is less than 50\n"
          ]
        }
      ]
    },
    {
      "cell_type": "code",
      "source": [
        "#Write a program that checks if a given number is a prime number using while loop.\n",
        "number = int(input(\"Enter a number between 1 and 40: \"))\n",
        "if 1 <= number <= 40:\n",
        "    if number == 1:                                                       #here the condition satisfies if the given number is not one as a prime number should be > 1\n",
        "        print(\"it is not a prime number\")\n",
        "    else:\n",
        "        i = 2\n",
        "        is_prime = True\n",
        "        while i * i <= number:                                            #here while loop is used to and condition is if number%== 0 then we found a divisor and it is not a prime number\n",
        "            if number % i == 0:\n",
        "                is_prime = False\n",
        "                break\n",
        "            i += 1                                                         #here in each cycle the number is instructed to increase by 1\n",
        "\n",
        "        if is_prime:\n",
        "            print(\"it is a prime number\")\n",
        "        else:\n",
        "            print(\"it is not a prime number\")\n",
        "else:\n",
        "    print(\"Please enter a number between the range 1 to 40.\")"
      ],
      "metadata": {
        "colab": {
          "base_uri": "https://localhost:8080/"
        },
        "id": "MfpQmGxnC2AC",
        "outputId": "d2f2215c-5c7e-47f4-9d53-34dd09f8d464"
      },
      "execution_count": 9,
      "outputs": [
        {
          "output_type": "stream",
          "name": "stdout",
          "text": [
            "Enter a number between 1 and 40: 9\n",
            "it is not a prime number\n"
          ]
        }
      ]
    },
    {
      "cell_type": "code",
      "source": [
        "#for loop- for loop is a program in python that helps you repeat a set of instructions multiple times in a given range.\n",
        "#some examples of for loop-\n",
        "i=1\n",
        "for i in range(0,11):                    #here the action will be repated till range 0-11\n",
        "  print(i)"
      ],
      "metadata": {
        "id": "WFaxLeMrHaO8"
      },
      "execution_count": null,
      "outputs": []
    },
    {
      "cell_type": "code",
      "source": [
        "#program to print a table of given nubmer using for loop\n",
        "number=int(input(\"enter a number here:\"))\n",
        "for i in range(1,11):                       #here for each value of i loop will iterate in range 1-11\n",
        "  print(number,\"*\",i,\"=\",i*number)\n"
      ],
      "metadata": {
        "id": "GI7DKEmqKKk3"
      },
      "execution_count": null,
      "outputs": []
    },
    {
      "cell_type": "code",
      "source": [
        "#program to print star triangle pattern using for loop which has 6 rows\n",
        "for i in range(7):\n",
        "  for j in range (i):         #here for each value of i loop will iterate in range 0-7\n",
        "    print(\"*\",end=\"\")         #here end=\"\" is used to print the pattern horizontally\n",
        "  print()"
      ],
      "metadata": {
        "id": "z0d9uy3LLKk9"
      },
      "execution_count": null,
      "outputs": []
    }
  ]
}